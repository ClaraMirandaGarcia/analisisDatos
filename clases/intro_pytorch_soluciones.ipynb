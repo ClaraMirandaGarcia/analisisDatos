{
  "nbformat": 4,
  "nbformat_minor": 0,
  "metadata": {
    "colab": {
      "provenance": []
    },
    "kernelspec": {
      "name": "python3",
      "display_name": "Python 3"
    },
    "language_info": {
      "name": "python"
    }
  },
  "cells": [
    {
      "cell_type": "markdown",
      "source": [
        "# PyTorch\n",
        "\n",
        "- Soporte de GPU: Ofrece soporte completo para la aceleración por GPU.\n",
        "- Computación de tensores: PyTorch permite realizar operaciones sobre tensores, en muchas ocasiones de manera similizar a como se trabaja con Numpy.\n",
        "- Autograd para la diferenciación automática: El módlulo `autograd` es una característica central de PyTorch, facilitando la diferenciación automática para el entrenamiento de redes neuronales.\n",
        "- Ecosistema amplio: Existen librerías que trabajan sobre PyTorch como PyTorch Lightnining o HuggingFace Transformers.\n",
        "- Implementación de modelos del estado del arte: PyTorch se utiliza para el entrenamiento y desarrollo de modelos del estado del arte.\n",
        "- Felixibilidad para la investigación: Es ampliamente utilizado en el ámbito de la investigación para experimentar con arquitecturas de modelos complejas."
      ],
      "metadata": {
        "id": "63ybiGQOokbw"
      }
    },
    {
      "cell_type": "code",
      "execution_count": 1,
      "metadata": {
        "id": "sZZFP4YO-5ZE"
      },
      "outputs": [],
      "source": [
        "import torch"
      ]
    },
    {
      "cell_type": "markdown",
      "source": [
        "## Configuración inicial"
      ],
      "metadata": {
        "id": "MNLGdkIH_IyJ"
      }
    },
    {
      "cell_type": "code",
      "source": [
        "device = \"cuda\" if torch.cuda.is_available() else \"cpu\"\n",
        "print(f\"Device seleccionado: {device}\")"
      ],
      "metadata": {
        "colab": {
          "base_uri": "https://localhost:8080/"
        },
        "id": "8Cort2Xk-9Ml",
        "outputId": "959c63a3-72f3-4b00-b6b8-fc4299f1236d"
      },
      "execution_count": 2,
      "outputs": [
        {
          "output_type": "stream",
          "name": "stdout",
          "text": [
            "Device seleccionado: cpu\n"
          ]
        }
      ]
    },
    {
      "cell_type": "markdown",
      "source": [
        "## Creación de tensores"
      ],
      "metadata": {
        "id": "7erAKNoX_LPL"
      }
    },
    {
      "cell_type": "code",
      "source": [
        "# TODO: Crear un tensor de ceros\n",
        "zeros = torch.zeros((3, 3))\n",
        "print(f\"Tensor de ceros:\\n{zeros}\")"
      ],
      "metadata": {
        "colab": {
          "base_uri": "https://localhost:8080/"
        },
        "id": "2yH4KHkH_EDa",
        "outputId": "b5ca6106-b28d-4289-b6c5-cefd75b1ebea"
      },
      "execution_count": 3,
      "outputs": [
        {
          "output_type": "stream",
          "name": "stdout",
          "text": [
            "Tensor de ceros:\n",
            "tensor([[0., 0., 0.],\n",
            "        [0., 0., 0.],\n",
            "        [0., 0., 0.]])\n"
          ]
        }
      ]
    },
    {
      "cell_type": "code",
      "source": [
        "# TODO: Crear un tensor de unos\n",
        "ones = torch.ones((2, 2))\n",
        "print(f\"Tensor de unos:\\n{ones}\")"
      ],
      "metadata": {
        "colab": {
          "base_uri": "https://localhost:8080/"
        },
        "id": "ETihIsjC_eX0",
        "outputId": "21f0a7a1-8e7a-41af-95b7-8d46ffcf2c52"
      },
      "execution_count": 4,
      "outputs": [
        {
          "output_type": "stream",
          "name": "stdout",
          "text": [
            "Tensor de unos:\n",
            "tensor([[1., 1.],\n",
            "        [1., 1.]])\n"
          ]
        }
      ]
    },
    {
      "cell_type": "code",
      "source": [
        "# TODO: Crear un tensor con valores aleatorios\n",
        "random_tensor = torch.rand((3, 3))\n",
        "print(f\"Tensor con valores aleatorios:\\n{random_tensor}\")"
      ],
      "metadata": {
        "colab": {
          "base_uri": "https://localhost:8080/"
        },
        "id": "dkFaKM6U_fuL",
        "outputId": "29fe383e-6416-4fde-dafa-3baef96264d9"
      },
      "execution_count": 5,
      "outputs": [
        {
          "output_type": "stream",
          "name": "stdout",
          "text": [
            "Tensor con valores aleatorios:\n",
            "tensor([[0.9183, 0.8927, 0.6468],\n",
            "        [0.6137, 0.7950, 0.5781],\n",
            "        [0.2972, 0.7251, 0.3358]])\n"
          ]
        }
      ]
    },
    {
      "cell_type": "code",
      "source": [
        "# TODO: Crear un tensor de una secuencia\n",
        "seq_tensor = torch.arange(0, 10)\n",
        "print(f\"Tensor de una secuencia:\\n{seq_tensor}\")"
      ],
      "metadata": {
        "colab": {
          "base_uri": "https://localhost:8080/"
        },
        "id": "iTCeL8Ci_gn0",
        "outputId": "70aabd71-a3c3-4df9-9037-54963e8802af"
      },
      "execution_count": 6,
      "outputs": [
        {
          "output_type": "stream",
          "name": "stdout",
          "text": [
            "Tensor de una secuencia:\n",
            "tensor([0, 1, 2, 3, 4, 5, 6, 7, 8, 9])\n"
          ]
        }
      ]
    },
    {
      "cell_type": "code",
      "source": [
        "# TODO: Crear un tensor con un tipo de dato específico (int32)\n",
        "dtype_tensor = torch.zeros((2, 2), dtype=torch.int32)\n",
        "print(f\"Tensor con tipo de dato int32:\\n{dtype_tensor}\")"
      ],
      "metadata": {
        "colab": {
          "base_uri": "https://localhost:8080/"
        },
        "id": "kxhSwwjI_hqw",
        "outputId": "43c652f1-1a17-4d00-fddd-6a9d187220fc"
      },
      "execution_count": 7,
      "outputs": [
        {
          "output_type": "stream",
          "name": "stdout",
          "text": [
            "Tensor con tipo de dato int32:\n",
            "tensor([[0, 0],\n",
            "        [0, 0]], dtype=torch.int32)\n"
          ]
        }
      ]
    },
    {
      "cell_type": "code",
      "source": [
        "import numpy as np\n",
        "\n",
        "# TODO: Crear tensor desde numpy\n",
        "numpy_array = np.array([1, 2, 3, 4, 5])\n",
        "torch_tensor = torch.from_numpy(numpy_array)\n",
        "print(f\"Tensor de PyTorch creado desde el array de NumPy:\\n{torch_tensor}\")"
      ],
      "metadata": {
        "colab": {
          "base_uri": "https://localhost:8080/"
        },
        "id": "aEXJ60dX_kFS",
        "outputId": "d07e377e-62d0-4dbe-8667-6b45507574d4"
      },
      "execution_count": 8,
      "outputs": [
        {
          "output_type": "stream",
          "name": "stdout",
          "text": [
            "Tensor de PyTorch creado desde el array de NumPy:\n",
            "tensor([1, 2, 3, 4, 5])\n"
          ]
        }
      ]
    },
    {
      "cell_type": "markdown",
      "source": [
        "## Operaciones con Tensores"
      ],
      "metadata": {
        "id": "iiWsBYVBAI8Y"
      }
    },
    {
      "cell_type": "code",
      "source": [
        "a = torch.tensor([2, 3, 4], dtype=torch.float32)\n",
        "b = torch.tensor([4, 5, 6], dtype=torch.float32)\n",
        "\n",
        "print(f\"Tensor a: {a}\")\n",
        "print(f\"Tensor b: {b}\")"
      ],
      "metadata": {
        "colab": {
          "base_uri": "https://localhost:8080/"
        },
        "id": "YO-kuE_HAKYu",
        "outputId": "4e62330e-a11d-495f-940a-dfab5ce119b4"
      },
      "execution_count": 9,
      "outputs": [
        {
          "output_type": "stream",
          "name": "stdout",
          "text": [
            "Tensor a: tensor([2., 3., 4.])\n",
            "Tensor b: tensor([4., 5., 6.])\n"
          ]
        }
      ]
    },
    {
      "cell_type": "code",
      "source": [
        "# TODO: Suma\n",
        "suma = torch.add(a, b)\n",
        "print(f\"Suma de tensores:\\n{suma}\")"
      ],
      "metadata": {
        "colab": {
          "base_uri": "https://localhost:8080/"
        },
        "id": "DiLX-gskAQVN",
        "outputId": "a35da4ef-d31a-4634-8071-be244e995dab"
      },
      "execution_count": 10,
      "outputs": [
        {
          "output_type": "stream",
          "name": "stdout",
          "text": [
            "Suma de tensores:\n",
            "tensor([ 6.,  8., 10.])\n"
          ]
        }
      ]
    },
    {
      "cell_type": "code",
      "source": [
        "# TODO: Resta\n",
        "resta = a - b\n",
        "print(f\"Resta de tensores:\\n{resta}\")"
      ],
      "metadata": {
        "colab": {
          "base_uri": "https://localhost:8080/"
        },
        "id": "jqUqrcoDARGa",
        "outputId": "95629ac3-3a42-48de-b131-72911ba452f4"
      },
      "execution_count": 11,
      "outputs": [
        {
          "output_type": "stream",
          "name": "stdout",
          "text": [
            "Resta de tensores:\n",
            "tensor([-2., -2., -2.])\n"
          ]
        }
      ]
    },
    {
      "cell_type": "code",
      "source": [
        "# TODO: División elemento a elemento\n",
        "div = a / b\n",
        "print(f\"\\nDivisión elemento a elemento:\\n{div}\")"
      ],
      "metadata": {
        "colab": {
          "base_uri": "https://localhost:8080/"
        },
        "id": "hpPgIankARny",
        "outputId": "fed014ff-d468-4a76-e1da-48cf84a84c16"
      },
      "execution_count": 12,
      "outputs": [
        {
          "output_type": "stream",
          "name": "stdout",
          "text": [
            "\n",
            "División elemento a elemento:\n",
            "tensor([0.5000, 0.6000, 0.6667])\n"
          ]
        }
      ]
    },
    {
      "cell_type": "code",
      "source": [
        "# TODO: Multiplicación de matrices (producto punto)\n",
        "c = torch.tensor([[1, 2], [3, 4]])\n",
        "d = torch.tensor([[5, 6], [7, 8]])\n",
        "\n",
        "print(f\"Tensor c:\\n{c}\")\n",
        "print(f\"\\nTensor d:\\n{d}\")\n",
        "\n",
        "mult = torch.mm(c, d)\n",
        "\n",
        "print(f\"\\nProducto punto:\\n{mult}\")"
      ],
      "metadata": {
        "colab": {
          "base_uri": "https://localhost:8080/"
        },
        "id": "0vEALl4kASGJ",
        "outputId": "4debc995-03e2-42a6-e005-57d5fa6d9baf"
      },
      "execution_count": 13,
      "outputs": [
        {
          "output_type": "stream",
          "name": "stdout",
          "text": [
            "Tensor c:\n",
            "tensor([[1, 2],\n",
            "        [3, 4]])\n",
            "\n",
            "Tensor d:\n",
            "tensor([[5, 6],\n",
            "        [7, 8]])\n",
            "\n",
            "Producto punto:\n",
            "tensor([[19, 22],\n",
            "        [43, 50]])\n"
          ]
        }
      ]
    },
    {
      "cell_type": "code",
      "source": [
        "# TODO: Multiplicación de matrices elemento a elemento\n",
        "mult_elem_by_elem = c * d\n",
        "print(f\"Producto punto:\\n{mult_elem_by_elem}\")"
      ],
      "metadata": {
        "colab": {
          "base_uri": "https://localhost:8080/"
        },
        "id": "fwU9UJaRBVuQ",
        "outputId": "54f0a986-4fc6-4343-df78-dcc8ca903fcc"
      },
      "execution_count": 14,
      "outputs": [
        {
          "output_type": "stream",
          "name": "stdout",
          "text": [
            "Producto punto:\n",
            "tensor([[ 5, 12],\n",
            "        [21, 32]])\n"
          ]
        }
      ]
    },
    {
      "cell_type": "code",
      "source": [
        "# TODO: Exponenciación elemento a elemento\n",
        "exp_elem_by_elem = a ** 2\n",
        "print(f\"Exponenciación elemento a elemento:\\n{exp_elem_by_elem}\")"
      ],
      "metadata": {
        "colab": {
          "base_uri": "https://localhost:8080/"
        },
        "id": "JRPAWvAnAS7r",
        "outputId": "2caa3863-f89c-46d8-da7d-01f1dc19742f"
      },
      "execution_count": 15,
      "outputs": [
        {
          "output_type": "stream",
          "name": "stdout",
          "text": [
            "Exponenciación elemento a elemento:\n",
            "tensor([ 4.,  9., 16.])\n"
          ]
        }
      ]
    },
    {
      "cell_type": "markdown",
      "source": [
        "## Indexación, concatenación y forma (shape)"
      ],
      "metadata": {
        "id": "7B5Ky-7vBv7o"
      }
    },
    {
      "cell_type": "code",
      "source": [
        "tensor = torch.arange(1, 10).reshape(3, 3)\n",
        "print(f\"Tensor para indexar:\\n{tensor}\")"
      ],
      "metadata": {
        "colab": {
          "base_uri": "https://localhost:8080/"
        },
        "id": "h1sdv6oFBxCK",
        "outputId": "57c2d720-2532-4d12-fcae-96e7ffc7bdb9"
      },
      "execution_count": 16,
      "outputs": [
        {
          "output_type": "stream",
          "name": "stdout",
          "text": [
            "Tensor para indexar:\n",
            "tensor([[1, 2, 3],\n",
            "        [4, 5, 6],\n",
            "        [7, 8, 9]])\n"
          ]
        }
      ]
    },
    {
      "cell_type": "code",
      "source": [
        "# TODO: Obtener la fila 1\n",
        "fila = tensor[1]\n",
        "print(f\"Primer fila del tensor:\\n{fila}\")"
      ],
      "metadata": {
        "colab": {
          "base_uri": "https://localhost:8080/"
        },
        "id": "yjPFbzuLB768",
        "outputId": "0ca45cc0-629a-4a9b-b632-15c9273598c8"
      },
      "execution_count": 17,
      "outputs": [
        {
          "output_type": "stream",
          "name": "stdout",
          "text": [
            "Primer fila del tensor:\n",
            "tensor([4, 5, 6])\n"
          ]
        }
      ]
    },
    {
      "cell_type": "code",
      "source": [
        "# TODO: Obtener el elemento de la posición 1, 1\n",
        "elemento = tensor[1, 1]\n",
        "print(f\"Elemento en la posición (1,1):\\n{elemento}\")"
      ],
      "metadata": {
        "colab": {
          "base_uri": "https://localhost:8080/"
        },
        "id": "BQwWArofCB7g",
        "outputId": "d1af8bae-0b63-4506-b23d-e066b8618c2b"
      },
      "execution_count": 18,
      "outputs": [
        {
          "output_type": "stream",
          "name": "stdout",
          "text": [
            "Elemento en la posición (1,1):\n",
            "5\n"
          ]
        }
      ]
    },
    {
      "cell_type": "code",
      "source": [
        "# TODO: Obtener la columna 1\n",
        "columna = tensor[:, 1]\n",
        "print(f\"Elemento en la posición (1,1):\\n{columna}\")"
      ],
      "metadata": {
        "colab": {
          "base_uri": "https://localhost:8080/"
        },
        "id": "2cQHXqwoCE4_",
        "outputId": "f09f8d4b-28be-4579-dc14-a9f55d3f67a7"
      },
      "execution_count": 19,
      "outputs": [
        {
          "output_type": "stream",
          "name": "stdout",
          "text": [
            "Elemento en la posición (1,1):\n",
            "tensor([2, 5, 8])\n"
          ]
        }
      ]
    },
    {
      "cell_type": "code",
      "source": [
        "# TODO: Cambio de tamaño y forma a una fila y 9 columnas\n",
        "reshape_tensor = tensor.view(1, 9)\n",
        "print(f\"Tensor reconfigurado:\\n{reshape_tensor}\")"
      ],
      "metadata": {
        "colab": {
          "base_uri": "https://localhost:8080/"
        },
        "id": "xXWiFGXxCmaf",
        "outputId": "613a43bd-b190-4e48-9312-44a794c3c503"
      },
      "execution_count": 20,
      "outputs": [
        {
          "output_type": "stream",
          "name": "stdout",
          "text": [
            "Tensor reconfigurado:\n",
            "tensor([[1, 2, 3, 4, 5, 6, 7, 8, 9]])\n"
          ]
        }
      ]
    },
    {
      "cell_type": "markdown",
      "source": [
        "## Módulo autograd\n",
        "\n",
        "- Diferenciación automática: Proporciona una forma automática de calcular los gradientes de los tensores con respecto a las variables que afectan a su cálculo.\n",
        "- Facilidad para el cálculo del backpropagation: Calcula la operación de backpropagation de manera eficiente, calculando los gradientes que se necesitan para actualizar los parámetros del modelo en el proceso de aprendizaje.\n",
        "- Optimización de parámetros: Los gradientes calculados por `autograd` son utilizados por algoritmos de optimización, como el descenso de gradiente, para ajustar los parámetros del modelo en el proceso de aprendizaje."
      ],
      "metadata": {
        "id": "1mpaNNDFEDMk"
      }
    },
    {
      "cell_type": "code",
      "source": [
        "# TODO Crear un tensor y establecer requires_grad=True para calcular automáticamente gradientes\n",
        "x = torch.tensor([1.0, 2.0, 3.0], requires_grad=True)\n",
        "print(f\"Tensor original: {x}\")"
      ],
      "metadata": {
        "colab": {
          "base_uri": "https://localhost:8080/"
        },
        "id": "AC_ZYu1uEEqD",
        "outputId": "c29a8f81-2401-4702-d4ab-4508582aba65"
      },
      "execution_count": 21,
      "outputs": [
        {
          "output_type": "stream",
          "name": "stdout",
          "text": [
            "Tensor original: tensor([1., 2., 3.], requires_grad=True)\n"
          ]
        }
      ]
    },
    {
      "cell_type": "code",
      "source": [
        "# TODO: x = x * 2\n",
        "# TODO: z = y * y * 2\n",
        "# TODO: out igual a la media de z\n",
        "y = x * 2\n",
        "z = y * y * 3\n",
        "out = z.mean()\n",
        "print(f\"Resultado de y: {y}\")\n",
        "print(f\"\\nResultado de x: {x}\")\n",
        "print(f\"\\nResultado de la operación: {out}\")"
      ],
      "metadata": {
        "colab": {
          "base_uri": "https://localhost:8080/"
        },
        "id": "RirW20EYEH-A",
        "outputId": "c5a7ab0b-5727-44e8-f5b7-f51d08c448a1"
      },
      "execution_count": 22,
      "outputs": [
        {
          "output_type": "stream",
          "name": "stdout",
          "text": [
            "Resultado de y: tensor([2., 4., 6.], grad_fn=<MulBackward0>)\n",
            "\n",
            "Resultado de x: tensor([1., 2., 3.], requires_grad=True)\n",
            "\n",
            "Resultado de la operación: 56.0\n"
          ]
        }
      ]
    },
    {
      "cell_type": "code",
      "source": [
        "# TODO: Calcular los gradientes. TIP: Mirar función backward\n",
        "out.backward()\n",
        "\n",
        "# TODO: Mostras el gradiente de x\n",
        "x_grad = x.grad\n",
        "print(f\"Gradientes: {x_grad}\")"
      ],
      "metadata": {
        "colab": {
          "base_uri": "https://localhost:8080/"
        },
        "id": "d7Aymym7EW8L",
        "outputId": "daa53d0e-a677-485b-9ba3-646ea776699e"
      },
      "execution_count": 23,
      "outputs": [
        {
          "output_type": "stream",
          "name": "stdout",
          "text": [
            "Gradientes: tensor([ 8., 16., 24.])\n"
          ]
        }
      ]
    },
    {
      "cell_type": "markdown",
      "source": [
        "## Implementación del algoritmo de backpropagation"
      ],
      "metadata": {
        "id": "wISBAZoLN3Sy"
      }
    },
    {
      "cell_type": "code",
      "source": [
        "x = torch.tensor([[1.], [2.], [3.], [4.]], requires_grad=False)\n",
        "y = torch.tensor([[3.], [5.], [7.], [9.]], requires_grad=False)\n",
        "\n",
        "print(f\"Datos de entrada:\\n{x}\")\n",
        "print(f\"\\nDatos de salida:\\n{y}\")"
      ],
      "metadata": {
        "colab": {
          "base_uri": "https://localhost:8080/"
        },
        "id": "18BJ15IdEXQD",
        "outputId": "8ff802b7-cfcb-4ddc-858c-ce882472fc63"
      },
      "execution_count": 24,
      "outputs": [
        {
          "output_type": "stream",
          "name": "stdout",
          "text": [
            "Datos de entrada:\n",
            "tensor([[1.],\n",
            "        [2.],\n",
            "        [3.],\n",
            "        [4.]])\n",
            "\n",
            "Datos de salida:\n",
            "tensor([[3.],\n",
            "        [5.],\n",
            "        [7.],\n",
            "        [9.]])\n"
          ]
        }
      ]
    },
    {
      "cell_type": "code",
      "source": [
        "# TODO: Crear un tensor w de 1 elemento aleatorio y con requires_grad=True\n",
        "# TODO: Crear un tensor b de 1 elemento aleatorio y con requires_grad=True\n",
        "w = torch.randn(1, requires_grad=True)\n",
        "b = torch.randn(1, requires_grad=True)\n",
        "\n",
        "print(f\"Pesos:\\n{w}\")\n",
        "print(f\"\\nSesgos (bias):\\n{b}\")"
      ],
      "metadata": {
        "colab": {
          "base_uri": "https://localhost:8080/"
        },
        "id": "P9FeVGyeOIAP",
        "outputId": "a8df81b6-37bd-4bd8-a07f-ca781859f18c"
      },
      "execution_count": 25,
      "outputs": [
        {
          "output_type": "stream",
          "name": "stdout",
          "text": [
            "Pesos:\n",
            "tensor([-0.6476], requires_grad=True)\n",
            "\n",
            "Sesgos (bias):\n",
            "tensor([0.0490], requires_grad=True)\n"
          ]
        }
      ]
    },
    {
      "cell_type": "code",
      "source": [
        "# TODO: Simular el entrenamiento de una red neuronal\n",
        "learning_rate = 0.01\n",
        "num_epochs = 1000\n",
        "\n",
        "for epoch in range(num_epochs):\n",
        "    # TODO: Forward pass: calcular la predicción\n",
        "    y_pred = w * x + b\n",
        "\n",
        "    # TODO: Calcular la pérdida (Mean Squared Error)\n",
        "    loss = ((y_pred - y) ** 2).mean()\n",
        "\n",
        "    # TODO: Backpropagation: calcular los gradientes\n",
        "    loss.backward()\n",
        "\n",
        "    # TODO: Actualizar los parámetros (w, b) usando descenso del gradiente\n",
        "    with torch.no_grad():\n",
        "        w -= learning_rate * w.grad\n",
        "        b -= learning_rate * b.grad\n",
        "\n",
        "    # TODO: Poner a cero los gradientes después de la actualización. TIP: función zero_\n",
        "    w.grad.zero_()\n",
        "    b.grad.zero_()\n",
        "\n",
        "    # Imprimir la pérdida cada 100 épocas\n",
        "    if epoch % 100 == 0:\n",
        "        print(f\"Epoch {epoch + 1}:\\tw = {w.item()},\\tb = {b.item()},\\tloss = {loss.item()}\")"
      ],
      "metadata": {
        "colab": {
          "base_uri": "https://localhost:8080/"
        },
        "id": "gv4kop0SOYc7",
        "outputId": "9ba9f2cd-bc4b-4338-cec0-67fc2faa541e"
      },
      "execution_count": 26,
      "outputs": [
        {
          "output_type": "stream",
          "name": "stdout",
          "text": [
            "Epoch 1:\tw = -0.20292255282402039,\tb = 0.20035314559936523,\tloss = 66.06864929199219\n",
            "Epoch 101:\tw = 2.011380910873413,\tb = 0.9665387868881226,\tloss = 0.00018812043708749115\n",
            "Epoch 201:\tw = 2.008432626724243,\tb = 0.9752069711685181,\tloss = 0.00010328129428671673\n",
            "Epoch 301:\tw = 2.0062479972839355,\tb = 0.9816300868988037,\tloss = 5.669757956638932e-05\n",
            "Epoch 401:\tw = 2.004629611968994,\tb = 0.9863888025283813,\tloss = 3.112785634584725e-05\n",
            "Epoch 501:\tw = 2.0034303665161133,\tb = 0.9899147152900696,\tloss = 1.7089725588448346e-05\n",
            "Epoch 601:\tw = 2.002542018890381,\tb = 0.9925269484519958,\tloss = 9.38251287152525e-06\n",
            "Epoch 701:\tw = 2.0018835067749023,\tb = 0.9944623708724976,\tloss = 5.152253834239673e-06\n",
            "Epoch 801:\tw = 2.0013957023620605,\tb = 0.9958962202072144,\tloss = 2.82952532870695e-06\n",
            "Epoch 901:\tw = 2.00103497505188,\tb = 0.9969584345817566,\tloss = 1.554585878693615e-06\n"
          ]
        }
      ]
    }
  ]
}