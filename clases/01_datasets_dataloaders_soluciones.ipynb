{
  "nbformat": 4,
  "nbformat_minor": 0,
  "metadata": {
    "colab": {
      "provenance": []
    },
    "kernelspec": {
      "name": "python3",
      "display_name": "Python 3"
    },
    "language_info": {
      "name": "python"
    }
  },
  "cells": [
    {
      "cell_type": "code",
      "source": [
        "!unzip -q rice-dataset-sample.zip"
      ],
      "metadata": {
        "id": "y4z8Q2MxQV5W",
        "outputId": "3af34b1a-33d5-4036-daef-daf8d3af0cf9",
        "colab": {
          "base_uri": "https://localhost:8080/"
        }
      },
      "execution_count": 1,
      "outputs": [
        {
          "output_type": "stream",
          "name": "stdout",
          "text": [
            "replace rice-dataset-sample/Arborio/Arborio (1).jpg? [y]es, [n]o, [A]ll, [N]one, [r]ename: a\n",
            "error:  invalid response [a]\n",
            "replace rice-dataset-sample/Arborio/Arborio (1).jpg? [y]es, [n]o, [A]ll, [N]one, [r]ename: A\n"
          ]
        }
      ]
    },
    {
      "cell_type": "code",
      "source": [
        "!sudo apt-get install tree"
      ],
      "metadata": {
        "colab": {
          "base_uri": "https://localhost:8080/"
        },
        "id": "QbhV0sWDSvPH",
        "outputId": "7532b3ae-7947-49e1-e8e0-04bd1fe86071"
      },
      "execution_count": 2,
      "outputs": [
        {
          "output_type": "stream",
          "name": "stdout",
          "text": [
            "Reading package lists... Done\n",
            "Building dependency tree... Done\n",
            "Reading state information... Done\n",
            "tree is already the newest version (2.0.2-1).\n",
            "0 upgraded, 0 newly installed, 0 to remove and 38 not upgraded.\n"
          ]
        }
      ]
    },
    {
      "cell_type": "code",
      "source": [
        "!tree rice-dataset-sample -L 1"
      ],
      "metadata": {
        "colab": {
          "base_uri": "https://localhost:8080/"
        },
        "id": "TmcluMMeS3Ev",
        "outputId": "fdfc6852-23e4-480d-f722-4ac69eeb3dc1"
      },
      "execution_count": 3,
      "outputs": [
        {
          "output_type": "stream",
          "name": "stdout",
          "text": [
            "\u001b[01;34mrice-dataset-sample\u001b[0m\n",
            "├── \u001b[01;34mArborio\u001b[0m\n",
            "├── \u001b[01;34mBasmati\u001b[0m\n",
            "├── \u001b[01;34mIpsala\u001b[0m\n",
            "├── \u001b[01;34mJasmine\u001b[0m\n",
            "└── \u001b[01;34mKaracadag\u001b[0m\n",
            "\n",
            "5 directories, 0 files\n"
          ]
        }
      ]
    },
    {
      "cell_type": "code",
      "source": [
        "!pip install split-folders"
      ],
      "metadata": {
        "colab": {
          "base_uri": "https://localhost:8080/"
        },
        "id": "lIiQyVekTXr-",
        "outputId": "9662dbff-a6aa-4318-842c-5cec9cc91535"
      },
      "execution_count": 4,
      "outputs": [
        {
          "output_type": "stream",
          "name": "stdout",
          "text": [
            "Requirement already satisfied: split-folders in /usr/local/lib/python3.10/dist-packages (0.5.1)\n"
          ]
        }
      ]
    },
    {
      "cell_type": "code",
      "source": [
        "import splitfolders\n",
        "\n",
        "input_dir = '/content/rice-dataset-sample'\n",
        "output_dir = '/content/rice-dataset-sample-splits'\n",
        "\n",
        "# TODO: Utiliza la función splitfolders para dividir el conjunto de rice-dataset-sample en\n",
        "# un conjunto de train, otro de validación y otro de test. Guarda el resultado de los splits\n",
        "# en el directorio rice-dataset-sample-splits\n",
        "\n",
        "splitfolders.ratio(\n",
        "    input_dir,\n",
        "    output=output_dir,\n",
        "    seed=42,\n",
        "    ratio=(.7, .2, .1)\n",
        ")"
      ],
      "metadata": {
        "colab": {
          "base_uri": "https://localhost:8080/"
        },
        "id": "PkHrXrACTEse",
        "outputId": "d63a2ce2-6bdf-4cec-8358-c037780bb9fa"
      },
      "execution_count": 5,
      "outputs": [
        {
          "output_type": "stream",
          "name": "stderr",
          "text": [
            "Copying files: 50 files [00:00, 3806.22 files/s]\n"
          ]
        }
      ]
    },
    {
      "cell_type": "code",
      "source": [
        "!tree rice-dataset-sample-splits -L 2"
      ],
      "metadata": {
        "colab": {
          "base_uri": "https://localhost:8080/"
        },
        "id": "EPbQE-95TfuF",
        "outputId": "25ab4dc3-fb7a-4721-c3a8-1935599ac632"
      },
      "execution_count": 6,
      "outputs": [
        {
          "output_type": "stream",
          "name": "stdout",
          "text": [
            "\u001b[01;34mrice-dataset-sample-splits\u001b[0m\n",
            "├── \u001b[01;34mtest\u001b[0m\n",
            "│   ├── \u001b[01;34mArborio\u001b[0m\n",
            "│   ├── \u001b[01;34mBasmati\u001b[0m\n",
            "│   ├── \u001b[01;34mIpsala\u001b[0m\n",
            "│   ├── \u001b[01;34mJasmine\u001b[0m\n",
            "│   └── \u001b[01;34mKaracadag\u001b[0m\n",
            "├── \u001b[01;34mtrain\u001b[0m\n",
            "│   ├── \u001b[01;34mArborio\u001b[0m\n",
            "│   ├── \u001b[01;34mBasmati\u001b[0m\n",
            "│   ├── \u001b[01;34mIpsala\u001b[0m\n",
            "│   ├── \u001b[01;34mJasmine\u001b[0m\n",
            "│   └── \u001b[01;34mKaracadag\u001b[0m\n",
            "└── \u001b[01;34mval\u001b[0m\n",
            "    ├── \u001b[01;34mArborio\u001b[0m\n",
            "    ├── \u001b[01;34mBasmati\u001b[0m\n",
            "    ├── \u001b[01;34mIpsala\u001b[0m\n",
            "    ├── \u001b[01;34mJasmine\u001b[0m\n",
            "    └── \u001b[01;34mKaracadag\u001b[0m\n",
            "\n",
            "18 directories, 0 files\n"
          ]
        }
      ]
    },
    {
      "cell_type": "markdown",
      "source": [
        "## ImageFolders"
      ],
      "metadata": {
        "id": "tabU7Hx1VHtp"
      }
    },
    {
      "cell_type": "code",
      "source": [
        "from torchvision import transforms\n",
        "\n",
        "transform = transforms.Compose([\n",
        "    transforms.Resize((128, 128)),\n",
        "    transforms.ToTensor(),\n",
        "])"
      ],
      "metadata": {
        "id": "lSkQDKPhP-39"
      },
      "execution_count": 7,
      "outputs": []
    },
    {
      "cell_type": "code",
      "source": [
        "from torchvision import datasets\n",
        "\n",
        "# TODO: Crear un ImageFolder para cada conjunto (train, val y test)\n",
        "# TIP: Consulta la documentación de ImageFolder de PyTorch\n",
        "\n",
        "dataset_path = '/content/rice-dataset-sample-splits'\n",
        "\n",
        "train_dataset = datasets.ImageFolder(root=f\"{dataset_path}/train\", transform=transform)\n",
        "val_dataset = datasets.ImageFolder(root=f\"{dataset_path}/val\", transform=transform)\n",
        "test_dataset = datasets.ImageFolder(root=f\"{dataset_path}/test\", transform=transform)"
      ],
      "metadata": {
        "id": "AoPnn2WNQI0r"
      },
      "execution_count": 8,
      "outputs": []
    },
    {
      "cell_type": "code",
      "source": [
        "# TODO: Consultando los parámetros de un ImageFolder, imprime la dirección que\n",
        "# contiene las imágenes de train\n",
        "\n",
        "print(f\"Directorio donde están las imágenes: {train_dataset.root}\")"
      ],
      "metadata": {
        "colab": {
          "base_uri": "https://localhost:8080/"
        },
        "id": "jzb5DYhpRE7y",
        "outputId": "a6d89ec0-61c3-4eb3-8306-b7821bc59bca"
      },
      "execution_count": 9,
      "outputs": [
        {
          "output_type": "stream",
          "name": "stdout",
          "text": [
            "Directorio donde están las imágenes: /content/rice-dataset-sample-splits/train\n"
          ]
        }
      ]
    },
    {
      "cell_type": "code",
      "source": [
        "# TODO: Consultando los parámetros de un ImageFolder, imprime las clases\n",
        "# contenidas en el ImageFolder de train\n",
        "\n",
        "print(f\"Clases del dataset: {train_dataset.classes}\")"
      ],
      "metadata": {
        "colab": {
          "base_uri": "https://localhost:8080/"
        },
        "id": "-QSUzfGERNqu",
        "outputId": "758dda63-6561-4274-ad34-7a3d1240b8a2"
      },
      "execution_count": 10,
      "outputs": [
        {
          "output_type": "stream",
          "name": "stdout",
          "text": [
            "Clases del dataset: ['Arborio', 'Basmati', 'Ipsala', 'Jasmine', 'Karacadag']\n"
          ]
        }
      ]
    },
    {
      "cell_type": "code",
      "source": [
        "# TODO: Consultando los parámetros de un ImageFolder, imprime la equivalencia\n",
        "# entre clases e índices en train.\n",
        "# TIP: El resultado debe ser algo como: {'Arborio': 0, 'Basmati': 1, 'Ipsala': 2, 'Jasmine': 3, 'Karacadag': 4}\n",
        "\n",
        "print(f\"Asignaciones de clase e ID: {train_dataset.class_to_idx}\")"
      ],
      "metadata": {
        "colab": {
          "base_uri": "https://localhost:8080/"
        },
        "id": "4tp0QkJCRTav",
        "outputId": "16f47459-ff6c-4114-8e2e-f92f8458ed25"
      },
      "execution_count": 11,
      "outputs": [
        {
          "output_type": "stream",
          "name": "stdout",
          "text": [
            "Asignaciones de clase e ID: {'Arborio': 0, 'Basmati': 1, 'Ipsala': 2, 'Jasmine': 3, 'Karacadag': 4}\n"
          ]
        }
      ]
    },
    {
      "cell_type": "code",
      "source": [
        "# TODO: Imprime los targets contenidos en el ImageFolder de train\n",
        "\n",
        "print(f\"Targets de las imágenes cargas:{train_dataset.targets}\")"
      ],
      "metadata": {
        "colab": {
          "base_uri": "https://localhost:8080/"
        },
        "id": "pILLMb7pRdgG",
        "outputId": "8a79fc47-b263-40a2-8f38-24c0c2885143"
      },
      "execution_count": 12,
      "outputs": [
        {
          "output_type": "stream",
          "name": "stdout",
          "text": [
            "Targets de las imágenes cargas:[0, 0, 0, 0, 0, 0, 0, 1, 1, 1, 1, 1, 1, 1, 2, 2, 2, 2, 2, 2, 2, 3, 3, 3, 3, 3, 3, 3, 4, 4, 4, 4, 4, 4, 4]\n"
          ]
        }
      ]
    },
    {
      "cell_type": "markdown",
      "source": [
        "## DataLoaders"
      ],
      "metadata": {
        "id": "EXYCSciDVKRF"
      }
    },
    {
      "cell_type": "code",
      "source": [
        "from torch.utils.data import DataLoader\n",
        "\n",
        "batch_size = 16\n",
        "shuffle = True\n",
        "\n",
        "# TODO: Crear un DataLoader para cada ImageFolder (train, val, test)\n",
        "# TIP: Consulta la documentación de DataLoader de PyTorch\n",
        "\n",
        "train_dataloader = DataLoader(train_dataset, batch_size=batch_size, shuffle=shuffle)\n",
        "val_dataloader = DataLoader(val_dataset, batch_size=batch_size, shuffle=shuffle)\n",
        "test_dataloader = DataLoader(test_dataset, batch_size=batch_size, shuffle=shuffle)"
      ],
      "metadata": {
        "id": "F0L4EMDPQE84"
      },
      "execution_count": 13,
      "outputs": []
    },
    {
      "cell_type": "code",
      "source": [
        "import matplotlib.pyplot as plt\n",
        "\n",
        "img, label = next(iter(train_dataloader))\n",
        "plt.imshow(img[0].permute(1,2,0))"
      ],
      "metadata": {
        "colab": {
          "base_uri": "https://localhost:8080/",
          "height": 451
        },
        "id": "HCpQVqm4Q4y_",
        "outputId": "ebb9cd92-88b7-429d-e516-e63866cb3431"
      },
      "execution_count": 15,
      "outputs": [
        {
          "output_type": "execute_result",
          "data": {
            "text/plain": [
              "<matplotlib.image.AxesImage at 0x7eec99f94d00>"
            ]
          },
          "metadata": {},
          "execution_count": 15
        },
        {
          "output_type": "display_data",
          "data": {
            "text/plain": [
              "<Figure size 640x480 with 1 Axes>"
            ],
            "image/png": "[encoded data removed]"
          },
          "metadata": {}
        }
      ]
    },
    {
      "cell_type": "markdown",
      "source": [
        "## Custom Dataset"
      ],
      "metadata": {
        "id": "58JFF5ofVNWF"
      }
    },
    {
      "cell_type": "code",
      "source": [
        "import pandas as pd\n",
        "\n",
        "data = {\n",
        "    'image_path': [\n",
        "        '/content/rice-dataset-sample/Arborio/Arborio (1).jpg',\n",
        "        '/content/rice-dataset-sample/Arborio/Arborio (2).jpg',\n",
        "        '/content/rice-dataset-sample/Basmati/Basmati (1).jpg',\n",
        "        '/content/rice-dataset-sample/Basmati/Basmati (2).jpg',\n",
        "        '/content/rice-dataset-sample/Ipsala/Ipsala (1).jpg',\n",
        "        '/content/rice-dataset-sample/Ipsala/Ipsala (2).jpg'\n",
        "    ],\n",
        "    'target': [\n",
        "        'Arborio',\n",
        "        'Arborio',\n",
        "        'Basmati',\n",
        "        'Basmati',\n",
        "        'Ipsala',\n",
        "        'Ipsala'\n",
        "    ]\n",
        "}\n",
        "\n",
        "dataset = pd.DataFrame(data)\n",
        "dataset"
      ],
      "metadata": {
        "colab": {
          "base_uri": "https://localhost:8080/",
          "height": 238
        },
        "id": "FRolynJTVMrT",
        "outputId": "5005a606-6ffd-4f59-bf7a-4595c26785f3"
      },
      "execution_count": 17,
      "outputs": [
        {
          "output_type": "execute_result",
          "data": {
            "text/plain": [
              "                                          image_path   target\n",
              "0  /content/rice-dataset-sample/Arborio/Arborio (...  Arborio\n",
              "1  /content/rice-dataset-sample/Arborio/Arborio (...  Arborio\n",
              "2  /content/rice-dataset-sample/Basmati/Basmati (...  Basmati\n",
              "3  /content/rice-dataset-sample/Basmati/Basmati (...  Basmati\n",
              "4  /content/rice-dataset-sample/Ipsala/Ipsala (1)...   Ipsala\n",
              "5  /content/rice-dataset-sample/Ipsala/Ipsala (2)...   Ipsala"
            ],
            "text/html": [
              "\n",
              "  <div id=\"df-c2370d0f-8fda-4a1a-a1dc-9812a5f38f9d\" class=\"colab-df-container\">\n",
              "    <div>\n",
              "<style scoped>\n",
              "    .dataframe tbody tr th:only-of-type {\n",
              "        vertical-align: middle;\n",
              "    }\n",
              "\n",
              "    .dataframe tbody tr th {\n",
              "        vertical-align: top;\n",
              "    }\n",
              "\n",
              "    .dataframe thead th {\n",
              "        text-align: right;\n",
              "    }\n",
              "</style>\n",
              "<table border=\"1\" class=\"dataframe\">\n",
              "  <thead>\n",
              "    <tr style=\"text-align: right;\">\n",
              "      <th></th>\n",
              "      <th>image_path</th>\n",
              "      <th>target</th>\n",
              "    </tr>\n",
              "  </thead>\n",
              "  <tbody>\n",
              "    <tr>\n",
              "      <th>0</th>\n",
              "      <td>/content/rice-dataset-sample/Arborio/Arborio (...</td>\n",
              "      <td>Arborio</td>\n",
              "    </tr>\n",
              "    <tr>\n",
              "      <th>1</th>\n",
              "      <td>/content/rice-dataset-sample/Arborio/Arborio (...</td>\n",
              "      <td>Arborio</td>\n",
              "    </tr>\n",
              "    <tr>\n",
              "      <th>2</th>\n",
              "      <td>/content/rice-dataset-sample/Basmati/Basmati (...</td>\n",
              "      <td>Basmati</td>\n",
              "    </tr>\n",
              "    <tr>\n",
              "      <th>3</th>\n",
              "      <td>/content/rice-dataset-sample/Basmati/Basmati (...</td>\n",
              "      <td>Basmati</td>\n",
              "    </tr>\n",
              "    <tr>\n",
              "      <th>4</th>\n",
              "      <td>/content/rice-dataset-sample/Ipsala/Ipsala (1)...</td>\n",
              "      <td>Ipsala</td>\n",
              "    </tr>\n",
              "    <tr>\n",
              "      <th>5</th>\n",
              "      <td>/content/rice-dataset-sample/Ipsala/Ipsala (2)...</td>\n",
              "      <td>Ipsala</td>\n",
              "    </tr>\n",
              "  </tbody>\n",
              "</table>\n",
              "</div>\n",
              "    <div class=\"colab-df-buttons\">\n",
              "\n",
              "  <div class=\"colab-df-container\">\n",
              "    <button class=\"colab-df-convert\" onclick=\"convertToInteractive('df-c2370d0f-8fda-4a1a-a1dc-9812a5f38f9d')\"\n",
              "            title=\"Convert this dataframe to an interactive table.\"\n",
              "            style=\"display:none;\">\n",
              "\n",
              "  <svg xmlns=\"http://www.w3.org/2000/svg\" height=\"24px\" viewBox=\"0 -960 960 960\">\n",
              "    <path d=\"M120-120v-720h720v720H120Zm60-500h600v-160H180v160Zm220 220h160v-160H400v160Zm0 220h160v-160H400v160ZM180-400h160v-160H180v160Zm440 0h160v-160H620v160ZM180-180h160v-160H180v160Zm440 0h160v-160H620v160Z\"/>\n",
              "  </svg>\n",
              "    </button>\n",
              "\n",
              "  <style>\n",
              "    .colab-df-container {\n",
              "      display:flex;\n",
              "      gap: 12px;\n",
              "    }\n",
              "\n",
              "    .colab-df-convert {\n",
              "      background-color: #E8F0FE;\n",
              "      border: none;\n",
              "      border-radius: 50%;\n",
              "      cursor: pointer;\n",
              "      display: none;\n",
              "      fill: #1967D2;\n",
              "      height: 32px;\n",
              "      padding: 0 0 0 0;\n",
              "      width: 32px;\n",
              "    }\n",
              "\n",
              "    .colab-df-convert:hover {\n",
              "      background-color: #E2EBFA;\n",
              "      box-shadow: 0px 1px 2px rgba(60, 64, 67, 0.3), 0px 1px 3px 1px rgba(60, 64, 67, 0.15);\n",
              "      fill: #174EA6;\n",
              "    }\n",
              "\n",
              "    .colab-df-buttons div {\n",
              "      margin-bottom: 4px;\n",
              "    }\n",
              "\n",
              "    [theme=dark] .colab-df-convert {\n",
              "      background-color: #3B4455;\n",
              "      fill: #D2E3FC;\n",
              "    }\n",
              "\n",
              "    [theme=dark] .colab-df-convert:hover {\n",
              "      background-color: #434B5C;\n",
              "      box-shadow: 0px 1px 3px 1px rgba(0, 0, 0, 0.15);\n",
              "      filter: drop-shadow(0px 1px 2px rgba(0, 0, 0, 0.3));\n",
              "      fill: #FFFFFF;\n",
              "    }\n",
              "  </style>\n",
              "\n",
              "    <script>\n",
              "      const buttonEl =\n",
              "        document.querySelector('#df-c2370d0f-8fda-4a1a-a1dc-9812a5f38f9d button.colab-df-convert');\n",
              "      buttonEl.style.display =\n",
              "        google.colab.kernel.accessAllowed ? 'block' : 'none';\n",
              "\n",
              "      async function convertToInteractive(key) {\n",
              "        const element = document.querySelector('#df-c2370d0f-8fda-4a1a-a1dc-9812a5f38f9d');\n",
              "        const dataTable =\n",
              "          await google.colab.kernel.invokeFunction('convertToInteractive',\n",
              "                                                    [key], {});\n",
              "        if (!dataTable) return;\n",
              "\n",
              "        const docLinkHtml = 'Like what you see? Visit the ' +\n",
              "          '<a target=\"_blank\" href=https://colab.research.google.com/notebooks/data_table.ipynb>data table notebook</a>'\n",
              "          + ' to learn more about interactive tables.';\n",
              "        element.innerHTML = '';\n",
              "        dataTable['output_type'] = 'display_data';\n",
              "        await google.colab.output.renderOutput(dataTable, element);\n",
              "        const docLink = document.createElement('div');\n",
              "        docLink.innerHTML = docLinkHtml;\n",
              "        element.appendChild(docLink);\n",
              "      }\n",
              "    </script>\n",
              "  </div>\n",
              "\n",
              "\n",
              "<div id=\"df-43f6edb6-876d-44f5-af58-1aa1b5b46012\">\n",
              "  <button class=\"colab-df-quickchart\" onclick=\"quickchart('df-43f6edb6-876d-44f5-af58-1aa1b5b46012')\"\n",
              "            title=\"Suggest charts\"\n",
              "            style=\"display:none;\">\n",
              "\n",
              "<svg xmlns=\"http://www.w3.org/2000/svg\" height=\"24px\"viewBox=\"0 0 24 24\"\n",
              "     width=\"24px\">\n",
              "    <g>\n",
              "        <path d=\"M19 3H5c-1.1 0-2 .9-2 2v14c0 1.1.9 2 2 2h14c1.1 0 2-.9 2-2V5c0-1.1-.9-2-2-2zM9 17H7v-7h2v7zm4 0h-2V7h2v10zm4 0h-2v-4h2v4z\"/>\n",
              "    </g>\n",
              "</svg>\n",
              "  </button>\n",
              "\n",
              "<style>\n",
              "  .colab-df-quickchart {\n",
              "      --bg-color: #E8F0FE;\n",
              "      --fill-color: #1967D2;\n",
              "      --hover-bg-color: #E2EBFA;\n",
              "      --hover-fill-color: #174EA6;\n",
              "      --disabled-fill-color: #AAA;\n",
              "      --disabled-bg-color: #DDD;\n",
              "  }\n",
              "\n",
              "  [theme=dark] .colab-df-quickchart {\n",
              "      --bg-color: #3B4455;\n",
              "      --fill-color: #D2E3FC;\n",
              "      --hover-bg-color: #434B5C;\n",
              "      --hover-fill-color: #FFFFFF;\n",
              "      --disabled-bg-color: #3B4455;\n",
              "      --disabled-fill-color: #666;\n",
              "  }\n",
              "\n",
              "  .colab-df-quickchart {\n",
              "    background-color: var(--bg-color);\n",
              "    border: none;\n",
              "    border-radius: 50%;\n",
              "    cursor: pointer;\n",
              "    display: none;\n",
              "    fill: var(--fill-color);\n",
              "    height: 32px;\n",
              "    padding: 0;\n",
              "    width: 32px;\n",
              "  }\n",
              "\n",
              "  .colab-df-quickchart:hover {\n",
              "    background-color: var(--hover-bg-color);\n",
              "    box-shadow: 0 1px 2px rgba(60, 64, 67, 0.3), 0 1px 3px 1px rgba(60, 64, 67, 0.15);\n",
              "    fill: var(--button-hover-fill-color);\n",
              "  }\n",
              "\n",
              "  .colab-df-quickchart-complete:disabled,\n",
              "  .colab-df-quickchart-complete:disabled:hover {\n",
              "    background-color: var(--disabled-bg-color);\n",
              "    fill: var(--disabled-fill-color);\n",
              "    box-shadow: none;\n",
              "  }\n",
              "\n",
              "  .colab-df-spinner {\n",
              "    border: 2px solid var(--fill-color);\n",
              "    border-color: transparent;\n",
              "    border-bottom-color: var(--fill-color);\n",
              "    animation:\n",
              "      spin 1s steps(1) infinite;\n",
              "  }\n",
              "\n",
              "  @keyframes spin {\n",
              "    0% {\n",
              "      border-color: transparent;\n",
              "      border-bottom-color: var(--fill-color);\n",
              "      border-left-color: var(--fill-color);\n",
              "    }\n",
              "    20% {\n",
              "      border-color: transparent;\n",
              "      border-left-color: var(--fill-color);\n",
              "      border-top-color: var(--fill-color);\n",
              "    }\n",
              "    30% {\n",
              "      border-color: transparent;\n",
              "      border-left-color: var(--fill-color);\n",
              "      border-top-color: var(--fill-color);\n",
              "      border-right-color: var(--fill-color);\n",
              "    }\n",
              "    40% {\n",
              "      border-color: transparent;\n",
              "      border-right-color: var(--fill-color);\n",
              "      border-top-color: var(--fill-color);\n",
              "    }\n",
              "    60% {\n",
              "      border-color: transparent;\n",
              "      border-right-color: var(--fill-color);\n",
              "    }\n",
              "    80% {\n",
              "      border-color: transparent;\n",
              "      border-right-color: var(--fill-color);\n",
              "      border-bottom-color: var(--fill-color);\n",
              "    }\n",
              "    90% {\n",
              "      border-color: transparent;\n",
              "      border-bottom-color: var(--fill-color);\n",
              "    }\n",
              "  }\n",
              "</style>\n",
              "\n",
              "  <script>\n",
              "    async function quickchart(key) {\n",
              "      const quickchartButtonEl =\n",
              "        document.querySelector('#' + key + ' button');\n",
              "      quickchartButtonEl.disabled = true;  // To prevent multiple clicks.\n",
              "      quickchartButtonEl.classList.add('colab-df-spinner');\n",
              "      try {\n",
              "        const charts = await google.colab.kernel.invokeFunction(\n",
              "            'suggestCharts', [key], {});\n",
              "      } catch (error) {\n",
              "        console.error('Error during call to suggestCharts:', error);\n",
              "      }\n",
              "      quickchartButtonEl.classList.remove('colab-df-spinner');\n",
              "      quickchartButtonEl.classList.add('colab-df-quickchart-complete');\n",
              "    }\n",
              "    (() => {\n",
              "      let quickchartButtonEl =\n",
              "        document.querySelector('#df-43f6edb6-876d-44f5-af58-1aa1b5b46012 button');\n",
              "      quickchartButtonEl.style.display =\n",
              "        google.colab.kernel.accessAllowed ? 'block' : 'none';\n",
              "    })();\n",
              "  </script>\n",
              "</div>\n",
              "    </div>\n",
              "  </div>\n"
            ],
            "application/vnd.google.colaboratory.intrinsic+json": {
              "type": "dataframe",
              "variable_name": "dataset",
              "summary": "{\n  \"name\": \"dataset\",\n  \"rows\": 6,\n  \"fields\": [\n    {\n      \"column\": \"image_path\",\n      \"properties\": {\n        \"dtype\": \"string\",\n        \"num_unique_values\": 6,\n        \"samples\": [\n          \"/content/rice-dataset-sample/Arborio/Arborio (1).jpg\",\n          \"/content/rice-dataset-sample/Arborio/Arborio (2).jpg\",\n          \"/content/rice-dataset-sample/Ipsala/Ipsala (2).jpg\"\n        ],\n        \"semantic_type\": \"\",\n        \"description\": \"\"\n      }\n    },\n    {\n      \"column\": \"target\",\n      \"properties\": {\n        \"dtype\": \"string\",\n        \"num_unique_values\": 3,\n        \"samples\": [\n          \"Arborio\",\n          \"Basmati\",\n          \"Ipsala\"\n        ],\n        \"semantic_type\": \"\",\n        \"description\": \"\"\n      }\n    }\n  ]\n}"
            }
          },
          "metadata": {},
          "execution_count": 17
        }
      ]
    },
    {
      "cell_type": "code",
      "source": [
        "from torchvision.io import read_image\n",
        "from torch.utils.data import Dataset\n",
        "\n",
        "class RiceCustomDataset(Dataset):\n",
        "  def __init__ (self, dataset):\n",
        "    # TODO: Asigna el valor de dataset a una variable de clase llamada dataset\n",
        "    self.dataset = dataset\n",
        "\n",
        "  def __len__(self):\n",
        "    # TODO: Devuelve la longitud del dataset\n",
        "    return self.dataset.shape[1]\n",
        "\n",
        "  def __getitem__(self, index):\n",
        "    # TODO: Obten la ruta de la imagen de la posición index\n",
        "    image_path = self.dataset[\"image_path\"][index]\n",
        "    image = read_image(image_path)\n",
        "    # TODO: Obtener la etiqueta de la imagen en la posición index\n",
        "    label = self.dataset[\"target\"][index]\n",
        "\n",
        "    return image, label"
      ],
      "metadata": {
        "id": "W_pu3VP0VhZ0"
      },
      "execution_count": 20,
      "outputs": []
    },
    {
      "cell_type": "code",
      "source": [
        "# Instancia el RiceCostumDataset con el dataset anteriormente creado\n",
        "\n",
        "rice_dataset = RiceCustomDataset(dataset)"
      ],
      "metadata": {
        "id": "ZDe0UDxCW9uE"
      },
      "execution_count": 21,
      "outputs": []
    },
    {
      "cell_type": "code",
      "source": [
        "plt.imshow(rice_dataset[0][0].permute(1,2,0))"
      ],
      "metadata": {
        "colab": {
          "base_uri": "https://localhost:8080/",
          "height": 452
        },
        "id": "YX1OOS37XKBb",
        "outputId": "0ec0eaa2-801e-47d2-cf0e-1a566b9670fa"
      },
      "execution_count": 22,
      "outputs": [
        {
          "output_type": "execute_result",
          "data": {
            "text/plain": [
              "<matplotlib.image.AxesImage at 0x7eec8cc30fa0>"
            ]
          },
          "metadata": {},
          "execution_count": 22
        },
        {
          "output_type": "display_data",
          "data": {
            "text/plain": [
              "<Figure size 640x480 with 1 Axes>"
            ],
            "image/png": "[encoded data removed]"
          },
          "metadata": {}
        }
      ]
    }
  ]
}